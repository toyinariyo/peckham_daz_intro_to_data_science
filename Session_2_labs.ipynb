{
 "cells": [
  {
   "cell_type": "markdown",
   "metadata": {},
   "source": [
    "# Session 7 Labs \n",
    "\n",
    "Section 1: Conditionals, loops, and functions \\\n",
    "Section 2: .csv files \\\n",
    "Section 3: Web scraping\n",
    "\n",
    "\n"
   ]
  },
  {
   "cell_type": "markdown",
   "metadata": {},
   "source": [
    "## Section 1: Conditionals, loops, and functions\n",
    "\n",
    "If you feel that you are already comfortable with these concepts, feel free to skip this section and move on to section 2\n",
    "\n",
    "<ins>Resources</ins>:\\\n",
    "Conditional statements: https://www.w3schools.com/python/python_conditions.asp \\\n",
    "While loops: https://www.w3schools.com/python/python_while_loops.asp \\\n",
    "For loops: https://www.w3schools.com/python/python_for_loops.asp \\\n",
    "Functions: https://www.w3schools.com/python/python_functions.asp "
   ]
  },
  {
   "cell_type": "markdown",
   "metadata": {},
   "source": [
    "### Task 1\n",
    "\n",
    "Write a program that determines whether a value is:\n",
    "1.  A multiple of 7\n",
    "2.  A multiple of 5\n",
    "3.  A multiple of both 7 and 5\n",
    "4.  None of the above\n",
    "\n",
    "Print out an appropriate response for each option.\n"
   ]
  },
  {
   "cell_type": "code",
   "execution_count": 2,
   "metadata": {},
   "outputs": [
    {
     "name": "stdout",
     "output_type": "stream",
     "text": [
      "35: Multiple of both 7 and 5\n",
      "\n",
      "Checking range 30-40 with for loop:\n",
      "30: Multiple of 5\n",
      "31: None of the above\n",
      "32: None of the above\n",
      "33: None of the above\n",
      "34: None of the above\n",
      "35: Multiple of both 7 and 5\n",
      "36: None of the above\n",
      "37: None of the above\n",
      "38: None of the above\n",
      "39: None of the above\n",
      "40: Multiple of 5\n"
     ]
    }
   ],
   "source": [
    "#Complete task 1 in this box\n",
    "def check_multiples(value):\n",
    "    if value % 7 == 0 and value % 5 == 0:\n",
    "        return \"Multiple of both 7 and 5\"\n",
    "    elif value % 7 == 0:\n",
    "        return \"Multiple of 7\"\n",
    "    elif value % 5 == 0:\n",
    "        return \"Multiple of 5\"\n",
    "    else:\n",
    "        return \"None of the above\"\n",
    "\n",
    "# Using a for loop to check a range of numbers\n",
    "def check_range_for(start, end):\n",
    "    for num in range(start, end + 1):\n",
    "        result = check_multiples(num)\n",
    "        print(f\"{num}: {result}\")\n",
    "\n",
    "# Example usage\n",
    "number = 35\n",
    "print(f\"{number}: {check_multiples(number)}\")\n",
    "\n",
    "print(\"\\nChecking range 30-40 with for loop:\")\n",
    "check_range_for(30, 40)"
   ]
  },
  {
   "cell_type": "markdown",
   "metadata": {},
   "source": [
    "### Task 2\n",
    "\n",
    "Using at least one loop, write a program that will print the following pattern:\n",
    "\n",
    "\n",
    "£ \\\n",
    "££ \\\n",
    "£££ \\\n",
    "££££ \\\n",
    "£££££ \\\n",
    "££££ \\\n",
    "£££ \\\n",
    "££ \\\n",
    "£ \n",
    "\n"
   ]
  },
  {
   "cell_type": "code",
   "execution_count": 3,
   "metadata": {},
   "outputs": [
    {
     "name": "stdout",
     "output_type": "stream",
     "text": [
      "£\n",
      "££\n",
      "£££\n",
      "££££\n",
      "£££££\n",
      "££££\n",
      "£££\n",
      "££\n",
      "£\n"
     ]
    }
   ],
   "source": [
    "#Complete task 2 in this box\n",
    "for i in range(1, 6):\n",
    "    print('£' * i)\n",
    "\n",
    "for i in range(4, 0, -1):\n",
    "    print('£' * i)\n"
   ]
  },
  {
   "cell_type": "markdown",
   "metadata": {},
   "source": [
    "### Task 3\n",
    "\n",
    "Write a program that determines the largest numerical value in a list. You may use the example lists given or create your own.\n",
    "\n",
    "**Extension** : Turn this into a function that takes the list as an argument and returns the largest value."
   ]
  },
  {
   "cell_type": "code",
   "execution_count": 3,
   "metadata": {},
   "outputs": [
    {
     "name": "stdout",
     "output_type": "stream",
     "text": [
      "Largest value in list 1: 100\n",
      "Largest value in list 2: 120\n"
     ]
    }
   ],
   "source": [
    "list1 = [3,45,6,19,100]\n",
    "list2 = [12,4,120,5,11,15,42]\n",
    "\n",
    "# largest_list1 = max(list1)\n",
    "# largest_list2 = max(list2)\n",
    "\n",
    "# print(f\"Largest value in list 1: {largest_list1}\")\n",
    "# print(f\"Largest value in list 2: {largest_list2}\")\n",
    "\n",
    "# Function \n",
    "def find_largest_value(number_list):\n",
    "    return max(number_list)\n",
    "\n",
    "largest_list1 = find_largest_value(list1)\n",
    "largest_list2 = find_largest_value(list2)\n",
    "\n",
    "print(f\"Largest value in list 1: {largest_list1}\")\n",
    "print(f\"Largest value in list 2: {largest_list2}\")"
   ]
  },
  {
   "cell_type": "markdown",
   "metadata": {},
   "source": [
    "### Task 4\n",
    "\n",
    "Write a function that return the next day of a given date. "
   ]
  },
  {
   "cell_type": "code",
   "execution_count": 6,
   "metadata": {},
   "outputs": [
    {
     "name": "stdout",
     "output_type": "stream",
     "text": [
      "The next day after 28/2/2024 is 29/2/2024\n"
     ]
    }
   ],
   "source": [
    "def next_day(day,month,year):\n",
    "    def is_leap_year(year):\n",
    "        if (year % 4 == 0 and year % 100 != 0):\n",
    "            return True\n",
    "        return False\n",
    "    \n",
    "    days_in_month = [31, 28, 31, 30, 31, 30, 31, 31, 30, 31, 30, 31]\n",
    "\n",
    "    if is_leap_year(year):\n",
    "        days_in_month[1] = 29\n",
    "    day += 1\n",
    "\n",
    "    if day > days_in_month[month - 1]:\n",
    "        day = 1\n",
    "        month += 1\n",
    "\n",
    "    if month > 12:\n",
    "        month = 1\n",
    "        year += 1\n",
    "\n",
    "    return day, month, year\n",
    "\n",
    "example_date = (28, 2, 2024)\n",
    "day, month, year = example_date\n",
    "next_day_date = next_day(day, month, year)\n",
    "print(f\"The next day after {day}/{month}/{year} is {next_day_date[0]}/{next_day_date[1]}/{next_day_date[2]}\")\n",
    "    "
   ]
  },
  {
   "cell_type": "markdown",
   "metadata": {},
   "source": [
    "## Section 2: .csv files\n",
    "\n",
    "<ins> Resources</ins>: \n",
    "\n",
    "Pandas: https://www.w3schools.com/python/pandas/pandas_getting_started.asp\n"
   ]
  },
  {
   "cell_type": "markdown",
   "metadata": {},
   "source": [
    "1. Choose a .cvs file to work with. There are two in the repo. The demo file from W3 schools contains data around exercise stats. There is also a file containing the collection of a US art gallery.\n",
    "\n",
    "2. See what data is in the file and think how you might want to view it\n",
    "\n",
    "3. Clean the data, info here: (https://www.w3schools.com/python/pandas/pandas_cleaning.asp), then save it to a different .csv file, info here: (https://www.programiz.com/python-programming/pandas/methods/to_csv)\n",
    "   \n",
    "4. Find interesting correlations in the data. Eg. pulse to calorie burn, year to dimensions. Info on this process here: (https://www.w3schools.com/python/pandas/pandas_correlations.asp)\n",
    "\n",
    "Optional : Once you’ve done this, find a new .cvs online and repeat the steps above. Museum exhibit list, sports stats (league tables ect… ) are fun. You can find a whole range to play with here: (https://www.kaggle.com/datasets?fileType=csv)"
   ]
  },
  {
   "cell_type": "code",
   "execution_count": 8,
   "metadata": {},
   "outputs": [
    {
     "name": "stdout",
     "output_type": "stream",
     "text": [
      "First 5 rows of cleaned data: \n",
      "   Duration  Pulse  Maxpulse  Calories\n",
      "0        60    110       130     409.1\n",
      "1        60    117       145     479.0\n",
      "2        60    103       135     340.0\n",
      "3        45    109       175     282.4\n",
      "4        45    117       148     406.0\n"
     ]
    }
   ],
   "source": [
    "import pandas as pd\n",
    "df = pd.read_csv('data.csv')\n",
    "new_df = df.dropna()\n",
    "new_df = new_df.reset_index(drop=True)\n",
    "\n",
    "new_df['Duration'] = pd.to_numeric(new_df['Duration'])\n",
    "new_df['Pulse'] = pd.to_numeric(new_df['Pulse'])\n",
    "new_df['Maxpulse'] = pd.to_numeric(new_df['Maxpulse'])\n",
    "new_df['Calories'] = pd.to_numeric(new_df['Calories'])\n",
    "\n",
    "new_df.to_csv('cleaned_exercise_data.csv', index=False)\n",
    "\n",
    "print(\"First 5 rows of cleaned data: \")\n",
    "print(new_df.head())"
   ]
  },
  {
   "cell_type": "markdown",
   "metadata": {},
   "source": [
    "## Section 3: Web scraping\n",
    "\n",
    "<ins>Resources: </ins>\n",
    "\n",
    "BeautifulSoup tutorial: https://www.tutorialspoint.com/beautiful_soup/index.htm \\\n",
    "BeautifulSoup documentation: https://www.crummy.com/software/BeautifulSoup/bs4/doc/#find\n",
    "\n"
   ]
  },
  {
   "cell_type": "markdown",
   "metadata": {},
   "source": [
    "### Task 1"
   ]
  },
  {
   "cell_type": "markdown",
   "metadata": {},
   "source": [
    "1. Go through the example notebook 1, reading and running each code block. Make sure that you understand what each part is doing.\n",
    "2. Choose a new wiki page and run the code to scrape data from the tables on that page\n",
    "3.  Save as a .csv\n",
    "4.  Use pandas to clean the data (if needed) and try find some interesting correlations"
   ]
  },
  {
   "cell_type": "code",
   "execution_count": null,
   "metadata": {},
   "outputs": [],
   "source": []
  },
  {
   "cell_type": "markdown",
   "metadata": {},
   "source": [
    "### Task 2"
   ]
  },
  {
   "cell_type": "markdown",
   "metadata": {},
   "source": [
    "1. Go through the example notebook 2 for image scraping, reading and running each code block. Make sure that you understand what each part is doing.\n",
    "2. Choose a different webpage and scrape the images (NOTE: make sure that you choose a website that allows scraping)"
   ]
  },
  {
   "cell_type": "code",
   "execution_count": null,
   "metadata": {},
   "outputs": [],
   "source": []
  }
 ],
 "metadata": {
  "kernelspec": {
   "display_name": "venv",
   "language": "python",
   "name": "python3"
  },
  "language_info": {
   "codemirror_mode": {
    "name": "ipython",
    "version": 3
   },
   "file_extension": ".py",
   "mimetype": "text/x-python",
   "name": "python",
   "nbconvert_exporter": "python",
   "pygments_lexer": "ipython3",
   "version": "3.13.0"
  }
 },
 "nbformat": 4,
 "nbformat_minor": 2
}
